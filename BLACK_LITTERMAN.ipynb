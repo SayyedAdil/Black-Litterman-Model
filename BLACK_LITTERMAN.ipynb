{
  "cells": [
    {
      "cell_type": "markdown",
      "metadata": {
        "id": "T6oX6LdTnvFF"
      },
      "source": [
        "# Installation\n"
      ]
    },
    {
      "cell_type": "code",
      "execution_count": 24,
      "metadata": {},
      "outputs": [
        {
          "name": "stdout",
          "output_type": "stream",
          "text": [
            "Collecting ipywidgets\n",
            "  Downloading ipywidgets-8.1.5-py3-none-any.whl.metadata (2.3 kB)\n",
            "Requirement already satisfied: comm>=0.1.3 in /Users/adilsayyed/Library/Python/3.12/lib/python/site-packages (from ipywidgets) (0.2.2)\n",
            "Requirement already satisfied: ipython>=6.1.0 in /Users/adilsayyed/Library/Python/3.12/lib/python/site-packages (from ipywidgets) (8.26.0)\n",
            "Requirement already satisfied: traitlets>=4.3.1 in /Users/adilsayyed/Library/Python/3.12/lib/python/site-packages (from ipywidgets) (5.14.3)\n",
            "Collecting widgetsnbextension~=4.0.12 (from ipywidgets)\n",
            "  Downloading widgetsnbextension-4.0.13-py3-none-any.whl.metadata (1.6 kB)\n",
            "Collecting jupyterlab-widgets~=3.0.12 (from ipywidgets)\n",
            "  Downloading jupyterlab_widgets-3.0.13-py3-none-any.whl.metadata (4.1 kB)\n",
            "Requirement already satisfied: decorator in /Users/adilsayyed/Library/Python/3.12/lib/python/site-packages (from ipython>=6.1.0->ipywidgets) (5.1.1)\n",
            "Requirement already satisfied: jedi>=0.16 in /Users/adilsayyed/Library/Python/3.12/lib/python/site-packages (from ipython>=6.1.0->ipywidgets) (0.19.1)\n",
            "Requirement already satisfied: matplotlib-inline in /Users/adilsayyed/Library/Python/3.12/lib/python/site-packages (from ipython>=6.1.0->ipywidgets) (0.1.7)\n",
            "Requirement already satisfied: prompt-toolkit<3.1.0,>=3.0.41 in /Users/adilsayyed/Library/Python/3.12/lib/python/site-packages (from ipython>=6.1.0->ipywidgets) (3.0.47)\n",
            "Requirement already satisfied: pygments>=2.4.0 in /Users/adilsayyed/Library/Python/3.12/lib/python/site-packages (from ipython>=6.1.0->ipywidgets) (2.18.0)\n",
            "Requirement already satisfied: stack-data in /Users/adilsayyed/Library/Python/3.12/lib/python/site-packages (from ipython>=6.1.0->ipywidgets) (0.6.3)\n",
            "Requirement already satisfied: pexpect>4.3 in /Users/adilsayyed/Library/Python/3.12/lib/python/site-packages (from ipython>=6.1.0->ipywidgets) (4.9.0)\n",
            "Requirement already satisfied: parso<0.9.0,>=0.8.3 in /Users/adilsayyed/Library/Python/3.12/lib/python/site-packages (from jedi>=0.16->ipython>=6.1.0->ipywidgets) (0.8.4)\n",
            "Requirement already satisfied: ptyprocess>=0.5 in /Users/adilsayyed/Library/Python/3.12/lib/python/site-packages (from pexpect>4.3->ipython>=6.1.0->ipywidgets) (0.7.0)\n",
            "Requirement already satisfied: wcwidth in /Users/adilsayyed/Library/Python/3.12/lib/python/site-packages (from prompt-toolkit<3.1.0,>=3.0.41->ipython>=6.1.0->ipywidgets) (0.2.13)\n",
            "Requirement already satisfied: executing>=1.2.0 in /Users/adilsayyed/Library/Python/3.12/lib/python/site-packages (from stack-data->ipython>=6.1.0->ipywidgets) (2.0.1)\n",
            "Requirement already satisfied: asttokens>=2.1.0 in /Users/adilsayyed/Library/Python/3.12/lib/python/site-packages (from stack-data->ipython>=6.1.0->ipywidgets) (2.4.1)\n",
            "Requirement already satisfied: pure-eval in /Users/adilsayyed/Library/Python/3.12/lib/python/site-packages (from stack-data->ipython>=6.1.0->ipywidgets) (0.2.2)\n",
            "Requirement already satisfied: six>=1.12.0 in /Library/Frameworks/Python.framework/Versions/3.12/lib/python3.12/site-packages (from asttokens>=2.1.0->stack-data->ipython>=6.1.0->ipywidgets) (1.16.0)\n",
            "Downloading ipywidgets-8.1.5-py3-none-any.whl (139 kB)\n",
            "Downloading jupyterlab_widgets-3.0.13-py3-none-any.whl (214 kB)\n",
            "Downloading widgetsnbextension-4.0.13-py3-none-any.whl (2.3 MB)\n",
            "\u001b[2K   \u001b[90m━━━━━━━━━━━━━━━━━━━━━━━━━━━━━━━━━━━━━━━━\u001b[0m \u001b[32m2.3/2.3 MB\u001b[0m \u001b[31m875.9 kB/s\u001b[0m eta \u001b[36m0:00:00\u001b[0ma \u001b[36m0:00:01\u001b[0m\n",
            "\u001b[?25hInstalling collected packages: widgetsnbextension, jupyterlab-widgets, ipywidgets\n",
            "Successfully installed ipywidgets-8.1.5 jupyterlab-widgets-3.0.13 widgetsnbextension-4.0.13\n"
          ]
        }
      ],
      "source": [
        "!pip install ipywidgets"
      ]
    },
    {
      "cell_type": "code",
      "execution_count": 1,
      "metadata": {
        "colab": {
          "base_uri": "https://localhost:8080/"
        },
        "id": "cKUdfR-fnuVx",
        "outputId": "951ec614-a687-4692-8ee4-52f9fcdf0a62"
      },
      "outputs": [
        {
          "name": "stdout",
          "output_type": "stream",
          "text": [
            "Requirement already satisfied: yfinance in /Library/Frameworks/Python.framework/Versions/3.12/lib/python3.12/site-packages (0.2.40)\n",
            "Requirement already satisfied: pandas>=1.3.0 in /Library/Frameworks/Python.framework/Versions/3.12/lib/python3.12/site-packages (from yfinance) (2.2.2)\n",
            "Requirement already satisfied: numpy>=1.16.5 in /Library/Frameworks/Python.framework/Versions/3.12/lib/python3.12/site-packages (from yfinance) (1.26.4)\n",
            "Requirement already satisfied: requests>=2.31 in /Library/Frameworks/Python.framework/Versions/3.12/lib/python3.12/site-packages (from yfinance) (2.32.3)\n",
            "Requirement already satisfied: multitasking>=0.0.7 in /Library/Frameworks/Python.framework/Versions/3.12/lib/python3.12/site-packages (from yfinance) (0.0.11)\n",
            "Requirement already satisfied: lxml>=4.9.1 in /Library/Frameworks/Python.framework/Versions/3.12/lib/python3.12/site-packages (from yfinance) (5.2.2)\n",
            "Requirement already satisfied: platformdirs>=2.0.0 in /Library/Frameworks/Python.framework/Versions/3.12/lib/python3.12/site-packages (from yfinance) (4.2.2)\n",
            "Requirement already satisfied: pytz>=2022.5 in /Library/Frameworks/Python.framework/Versions/3.12/lib/python3.12/site-packages (from yfinance) (2024.1)\n",
            "Requirement already satisfied: frozendict>=2.3.4 in /Library/Frameworks/Python.framework/Versions/3.12/lib/python3.12/site-packages (from yfinance) (2.4.4)\n",
            "Requirement already satisfied: peewee>=3.16.2 in /Library/Frameworks/Python.framework/Versions/3.12/lib/python3.12/site-packages (from yfinance) (3.17.5)\n",
            "Requirement already satisfied: beautifulsoup4>=4.11.1 in /Library/Frameworks/Python.framework/Versions/3.12/lib/python3.12/site-packages (from yfinance) (4.12.3)\n",
            "Requirement already satisfied: html5lib>=1.1 in /Library/Frameworks/Python.framework/Versions/3.12/lib/python3.12/site-packages (from yfinance) (1.1)\n",
            "Requirement already satisfied: soupsieve>1.2 in /Library/Frameworks/Python.framework/Versions/3.12/lib/python3.12/site-packages (from beautifulsoup4>=4.11.1->yfinance) (2.5)\n",
            "Requirement already satisfied: six>=1.9 in /Library/Frameworks/Python.framework/Versions/3.12/lib/python3.12/site-packages (from html5lib>=1.1->yfinance) (1.16.0)\n",
            "Requirement already satisfied: webencodings in /Library/Frameworks/Python.framework/Versions/3.12/lib/python3.12/site-packages (from html5lib>=1.1->yfinance) (0.5.1)\n",
            "Requirement already satisfied: python-dateutil>=2.8.2 in /Library/Frameworks/Python.framework/Versions/3.12/lib/python3.12/site-packages (from pandas>=1.3.0->yfinance) (2.9.0.post0)\n",
            "Requirement already satisfied: tzdata>=2022.7 in /Library/Frameworks/Python.framework/Versions/3.12/lib/python3.12/site-packages (from pandas>=1.3.0->yfinance) (2024.1)\n",
            "Requirement already satisfied: charset-normalizer<4,>=2 in /Library/Frameworks/Python.framework/Versions/3.12/lib/python3.12/site-packages (from requests>=2.31->yfinance) (3.3.2)\n",
            "Requirement already satisfied: idna<4,>=2.5 in /Library/Frameworks/Python.framework/Versions/3.12/lib/python3.12/site-packages (from requests>=2.31->yfinance) (3.7)\n",
            "Requirement already satisfied: urllib3<3,>=1.21.1 in /Library/Frameworks/Python.framework/Versions/3.12/lib/python3.12/site-packages (from requests>=2.31->yfinance) (2.2.2)\n",
            "Requirement already satisfied: certifi>=2017.4.17 in /Library/Frameworks/Python.framework/Versions/3.12/lib/python3.12/site-packages (from requests>=2.31->yfinance) (2024.6.2)\n"
          ]
        }
      ],
      "source": [
        "!pip install yfinance"
      ]
    },
    {
      "cell_type": "markdown",
      "metadata": {
        "id": "S-Va-dDln7XE"
      },
      "source": [
        "# Importing Packages"
      ]
    },
    {
      "cell_type": "code",
      "execution_count": 25,
      "metadata": {
        "id": "tXyyhq-Wnzrg"
      },
      "outputs": [],
      "source": [
        "import numpy as np\n",
        "import pandas as pd\n",
        "import yfinance as yf\n",
        "import matplotlib.pyplot as plt\n",
        "from scipy import stats\n",
        "import ipywidgets as widgets\n",
        "from IPython.display import display\n",
        "from datetime import datetime, timedelta"
      ]
    },
    {
      "cell_type": "markdown",
      "metadata": {
        "id": "qRf2JxPaoGaS"
      },
      "source": [
        "# Getting Stock Data"
      ]
    },
    {
      "cell_type": "code",
      "execution_count": 3,
      "metadata": {
        "colab": {
          "base_uri": "https://localhost:8080/"
        },
        "id": "PFvjVhi4oCgK",
        "outputId": "f62cd08c-f2f3-4054-f7d3-86738c9eaab7"
      },
      "outputs": [
        {
          "name": "stderr",
          "output_type": "stream",
          "text": [
            "[*********************100%%**********************]  5 of 5 completed\n",
            "[*********************100%%**********************]  1 of 1 completed\n",
            "[*********************100%%**********************]  1 of 1 completed\n"
          ]
        }
      ],
      "source": [
        "stock_tickers = ['TSLA', 'NFLX', 'NVDA', 'AMD', 'MSFT']\n",
        "tbill_ticker = '^TNX'\n",
        "market_ticker = '^GSPC'\n",
        "end_date = datetime.now()\n",
        "start_date = end_date - timedelta(days=365)\n",
        "portfolio = yf.download(stock_tickers, start=start_date, end=end_date)['Close']\n",
        "Tbill = yf.download(tbill_ticker, start=start_date, end=end_date)[['Close']].rename(columns={'Close': 'tbill'})\n",
        "market = yf.download(market_ticker, start=start_date, end=end_date)[['Close']].rename(columns={'Close': 'gspc'})"
      ]
    },
    {
      "cell_type": "markdown",
      "metadata": {
        "id": "a59D7kuErYtK"
      },
      "source": [
        "# Risk Free Interest Rates"
      ]
    },
    {
      "cell_type": "code",
      "execution_count": 4,
      "metadata": {
        "colab": {
          "base_uri": "https://localhost:8080/"
        },
        "id": "UeUfdFtuou2r",
        "outputId": "218bf27a-60b4-4386-900c-9c14e66103ab"
      },
      "outputs": [
        {
          "name": "stdout",
          "output_type": "stream",
          "text": [
            "Excess Returns:\n",
            " Ticker           amd      msft      nflx      nvda      tsla\n",
            "Date                                                        \n",
            "2023-10-11  0.006468  0.025161 -0.006906  0.034899  0.010500\n",
            "2023-10-12 -0.021031 -0.029253 -0.038388 -0.022493 -0.041128\n",
            "2023-10-13 -0.016396  0.007257  0.002332 -0.013997 -0.012323\n",
            "2023-10-16 -0.004894 -0.002949 -0.003479 -0.003984 -0.006780\n",
            "2023-10-17 -0.041049 -0.030394 -0.042785 -0.075445 -0.024988\n",
            "Excess Market Return:\n",
            "                 gspc\n",
            "Date                \n",
            "2023-10-11  0.017182\n",
            "2023-10-12 -0.031709\n",
            "2023-10-13  0.012596\n",
            "2023-10-16 -0.007336\n",
            "2023-10-17 -0.028749\n"
          ]
        }
      ],
      "source": [
        "portfolio.index = portfolio.index.tz_localize(None)\n",
        "Tbill.index = Tbill.index.tz_localize(None)\n",
        "market.index = market.index.tz_localize(None)\n",
        "portfolio.columns = portfolio.columns.str.lower()\n",
        "if not portfolio.empty and not Tbill.empty and not market.empty:\n",
        "    returns = portfolio.pct_change()\n",
        "    tbill_rate = Tbill.pct_change()\n",
        "    market_returns = market.pct_change()\n",
        "    returns, tbill_rate = returns.align(tbill_rate, join='inner', axis=0)\n",
        "    market_returns, tbill_rate = market_returns.align(tbill_rate, join='inner', axis=0)\n",
        "    returns['tsla'] -= tbill_rate[\"tbill\"]\n",
        "    returns['nflx'] -= tbill_rate[\"tbill\"]\n",
        "    returns['nvda'] -= tbill_rate[\"tbill\"]\n",
        "    returns['amd'] -= tbill_rate[\"tbill\"]\n",
        "    returns['msft'] -= tbill_rate[\"tbill\"]\n",
        "    excess_market_return = pd.DataFrame()\n",
        "    excess_market_return['gspc'] = market_returns['gspc'] - tbill_rate[\"tbill\"]\n",
        "    returns.dropna(inplace=True)\n",
        "    excess_market_return.dropna(inplace=True)\n",
        "    print(\"Excess Returns:\\n\", returns.head())\n",
        "    print(\"Excess Market Return:\\n\", excess_market_return.head())\n",
        "else:\n",
        "    print(\"One or more DataFrames are empty. Please check data retrieval.\")"
      ]
    },
    {
      "cell_type": "markdown",
      "metadata": {
        "id": "76F3JUJ3rrmO"
      },
      "source": [
        "# Price of Risk\n",
        "\n",
        "\\begin{align}\n",
        "  A = \\frac{E(r_m) - r_f}{σ_m^2}\n",
        "\\end{align}"
      ]
    },
    {
      "cell_type": "code",
      "execution_count": 7,
      "metadata": {
        "colab": {
          "base_uri": "https://localhost:8080/"
        },
        "id": "uMGKIL4zrufN",
        "outputId": "31c5a392-8fce-4104-f3f4-b768bd821c58"
      },
      "outputs": [
        {
          "data": {
            "text/plain": [
              "25.239589508313102"
            ]
          },
          "execution_count": 7,
          "metadata": {},
          "output_type": "execute_result"
        }
      ],
      "source": [
        "average_excess_returns = excess_market_return.mean()\n",
        "variance = market_returns.var()\n",
        "a = average_excess_returns / variance\n",
        "A = a.iloc[0]\n",
        "A"
      ]
    },
    {
      "cell_type": "markdown",
      "metadata": {
        "id": "GPrtvq2_v582"
      },
      "source": [
        " # Variance Covariance Matrix"
      ]
    },
    {
      "cell_type": "code",
      "execution_count": 8,
      "metadata": {
        "colab": {
          "base_uri": "https://localhost:8080/",
          "height": 238
        },
        "id": "1-RcZuDxrw44",
        "outputId": "4ebbcc03-3eef-4eb2-d50a-c4ed576e647e"
      },
      "outputs": [
        {
          "data": {
            "text/html": [
              "<div>\n",
              "<style scoped>\n",
              "    .dataframe tbody tr th:only-of-type {\n",
              "        vertical-align: middle;\n",
              "    }\n",
              "\n",
              "    .dataframe tbody tr th {\n",
              "        vertical-align: top;\n",
              "    }\n",
              "\n",
              "    .dataframe thead th {\n",
              "        text-align: right;\n",
              "    }\n",
              "</style>\n",
              "<table border=\"1\" class=\"dataframe\">\n",
              "  <thead>\n",
              "    <tr style=\"text-align: right;\">\n",
              "      <th>Ticker</th>\n",
              "      <th>amd</th>\n",
              "      <th>msft</th>\n",
              "      <th>nflx</th>\n",
              "      <th>nvda</th>\n",
              "      <th>tsla</th>\n",
              "    </tr>\n",
              "    <tr>\n",
              "      <th>Ticker</th>\n",
              "      <th></th>\n",
              "      <th></th>\n",
              "      <th></th>\n",
              "      <th></th>\n",
              "      <th></th>\n",
              "    </tr>\n",
              "  </thead>\n",
              "  <tbody>\n",
              "    <tr>\n",
              "      <th>amd</th>\n",
              "      <td>0.001138</td>\n",
              "      <td>0.000370</td>\n",
              "      <td>0.000439</td>\n",
              "      <td>0.000794</td>\n",
              "      <td>0.000594</td>\n",
              "    </tr>\n",
              "    <tr>\n",
              "      <th>msft</th>\n",
              "      <td>0.000370</td>\n",
              "      <td>0.000374</td>\n",
              "      <td>0.000324</td>\n",
              "      <td>0.000395</td>\n",
              "      <td>0.000395</td>\n",
              "    </tr>\n",
              "    <tr>\n",
              "      <th>nflx</th>\n",
              "      <td>0.000439</td>\n",
              "      <td>0.000324</td>\n",
              "      <td>0.000623</td>\n",
              "      <td>0.000473</td>\n",
              "      <td>0.000340</td>\n",
              "    </tr>\n",
              "    <tr>\n",
              "      <th>nvda</th>\n",
              "      <td>0.000794</td>\n",
              "      <td>0.000395</td>\n",
              "      <td>0.000473</td>\n",
              "      <td>0.001273</td>\n",
              "      <td>0.000573</td>\n",
              "    </tr>\n",
              "    <tr>\n",
              "      <th>tsla</th>\n",
              "      <td>0.000594</td>\n",
              "      <td>0.000395</td>\n",
              "      <td>0.000340</td>\n",
              "      <td>0.000573</td>\n",
              "      <td>0.001529</td>\n",
              "    </tr>\n",
              "  </tbody>\n",
              "</table>\n",
              "</div>"
            ],
            "text/plain": [
              "Ticker       amd      msft      nflx      nvda      tsla\n",
              "Ticker                                                  \n",
              "amd     0.001138  0.000370  0.000439  0.000794  0.000594\n",
              "msft    0.000370  0.000374  0.000324  0.000395  0.000395\n",
              "nflx    0.000439  0.000324  0.000623  0.000473  0.000340\n",
              "nvda    0.000794  0.000395  0.000473  0.001273  0.000573\n",
              "tsla    0.000594  0.000395  0.000340  0.000573  0.001529"
            ]
          },
          "execution_count": 8,
          "metadata": {},
          "output_type": "execute_result"
        }
      ],
      "source": [
        "S = returns.cov()\n",
        "S"
      ]
    },
    {
      "cell_type": "markdown",
      "metadata": {
        "id": "Ds2uSRhgwqQy"
      },
      "source": [
        "# Market Weights"
      ]
    },
    {
      "cell_type": "code",
      "execution_count": 9,
      "metadata": {
        "colab": {
          "base_uri": "https://localhost:8080/"
        },
        "id": "oKP2kSzDwpkQ",
        "outputId": "8712c866-d6ee-4d47-9185-b98aaed36b5c"
      },
      "outputs": [
        {
          "name": "stdout",
          "output_type": "stream",
          "text": [
            "Weights based on market cap:  [0.10157776 0.04031559 0.42032167 0.0362829  0.40150209]\n"
          ]
        }
      ],
      "source": [
        "tsla = yf.Ticker('TSLA')\n",
        "nflx = yf.Ticker('NFLX')\n",
        "nvda = yf.Ticker('NVDA')\n",
        "amd = yf.Ticker('AMD')\n",
        "msft = yf.Ticker('MSFT')\n",
        "market_cap = {\n",
        "    'tsla': tsla.info.get('marketCap', 0),\n",
        "    'nflx': nflx.info.get('marketCap', 0),\n",
        "    'nvda': nvda.info.get('marketCap', 0),\n",
        "    'amd': amd.info.get('marketCap', 0),\n",
        "    'msft': msft.info.get('marketCap', 0)\n",
        "}\n",
        "sum_weights = sum(market_cap.values())\n",
        "w = np.empty(5)\n",
        "w[0] = market_cap['tsla'] / sum_weights\n",
        "w[1] = market_cap['nflx'] / sum_weights\n",
        "w[2] = market_cap['nvda'] / sum_weights\n",
        "w[3] = market_cap['amd'] / sum_weights\n",
        "w[4] = market_cap['msft'] / sum_weights\n",
        "print(\"Weights based on market cap: \", w)"
      ]
    },
    {
      "cell_type": "markdown",
      "metadata": {
        "id": "ifK5SA3XzIvB"
      },
      "source": [
        "# Implied Equilibrium Excess Return\n",
        "\n",
        "\\begin{align}\n",
        "  π = ASw\n",
        "\\end{align}"
      ]
    },
    {
      "cell_type": "code",
      "execution_count": 10,
      "metadata": {
        "colab": {
          "base_uri": "https://localhost:8080/"
        },
        "id": "8C3D6HYLzIZ3",
        "outputId": "3eea89fd-1997-4206-8ea0-3374fa48da83"
      },
      "outputs": [
        {
          "data": {
            "text/plain": [
              "array([0.01468829, 0.00913092, 0.01194628, 0.01442907, 0.02154787])"
            ]
          },
          "execution_count": 10,
          "metadata": {},
          "output_type": "execute_result"
        }
      ],
      "source": [
        "pi = A * np.dot(S, w)\n",
        "pi"
      ]
    },
    {
      "cell_type": "markdown",
      "metadata": {
        "id": "siQpvlIAzsj1"
      },
      "source": [
        "# Views and Link Matrix (Order: tsla, nflx, nvda, amd, msft)"
      ]
    },
    {
      "cell_type": "code",
      "execution_count": 11,
      "metadata": {
        "id": "NQsr9Mg6v_TS"
      },
      "outputs": [],
      "source": [
        "Q = np.array([0.005, 0.01, 0.005])\n",
        "P = np.array([[0, 0, 0, -1, 1], [0, -1, 1, 0, 0], [-1, 1, 0, 0, 0]])"
      ]
    },
    {
      "cell_type": "markdown",
      "metadata": {
        "id": "_NawVdNa0uII"
      },
      "source": [
        "# Uncertainty About Views\n",
        "\n",
        "\\begin{align}\n",
        "  \\Omega = τPSP^T  \n",
        "\\end{align}\n",
        "\n",
        "where $\\tau = 1$"
      ]
    },
    {
      "cell_type": "code",
      "execution_count": 12,
      "metadata": {
        "colab": {
          "base_uri": "https://localhost:8080/"
        },
        "id": "0T2MRzfs00OI",
        "outputId": "93f62468-5900-4551-8ff0-eea12aba253a"
      },
      "outputs": [
        {
          "data": {
            "text/plain": [
              "array([[ 0.00165512, -0.00013231,  0.00019957],\n",
              "       [-0.00013231,  0.0003483 , -0.00011832],\n",
              "       [ 0.00019957, -0.00011832,  0.0007721 ]])"
            ]
          },
          "execution_count": 12,
          "metadata": {},
          "output_type": "execute_result"
        }
      ],
      "source": [
        "omega = 1 * np.dot(np.dot(P, S), np.transpose(P))\n",
        "omega"
      ]
    },
    {
      "cell_type": "markdown",
      "metadata": {
        "id": "aQljpYLW2pVg"
      },
      "source": [
        "# Solving first term of Black Litterman Formula\n",
        "\n",
        "\\begin{align}\n",
        "  [(τS)^{-1} + P^TΩ^{-1}P]^{-1}\n",
        "\\end{align}"
      ]
    },
    {
      "cell_type": "code",
      "execution_count": 13,
      "metadata": {
        "colab": {
          "base_uri": "https://localhost:8080/"
        },
        "id": "zUBeMVRZ2HON",
        "outputId": "2c3e59e9-04e4-4a60-c4c4-a42f7ae7df47"
      },
      "outputs": [
        {
          "data": {
            "text/plain": [
              "array([[0.00075208, 0.00036812, 0.00040257, 0.0005937 , 0.00049355],\n",
              "       [0.00036812, 0.00037021, 0.0003455 , 0.0003944 , 0.00039404],\n",
              "       [0.00040257, 0.0003455 , 0.00049494, 0.00043327, 0.00036676],\n",
              "       [0.0005937 , 0.0003944 , 0.00043327, 0.0010581 , 0.00070839],\n",
              "       [0.00049355, 0.00039404, 0.00036676, 0.00070839, 0.00118623]])"
            ]
          },
          "execution_count": 13,
          "metadata": {},
          "output_type": "execute_result"
        }
      ],
      "source": [
        "first_term = np.linalg.inv(np.linalg.inv(S) + np.dot(np.dot(np.transpose(P), np.linalg.inv(omega)), P))\n",
        "first_term"
      ]
    },
    {
      "cell_type": "markdown",
      "metadata": {
        "id": "fhN8wDlf3uKR"
      },
      "source": [
        "# Solving second term of Black Litterman Formula\n",
        "\n",
        "\\begin{align}\n",
        "  [(τS)^{-1}π + P^TΩ^{-1}Q]\n",
        "\\end{align}"
      ]
    },
    {
      "cell_type": "code",
      "execution_count": 14,
      "metadata": {
        "colab": {
          "base_uri": "https://localhost:8080/"
        },
        "id": "etkF4uR43kE-",
        "outputId": "26b5c00d-ae0c-41c5-e3f9-81f724e443f7"
      },
      "outputs": [
        {
          "data": {
            "text/plain": [
              "array([ -7.96513072, -22.43829262,  44.59349946,  -3.55229766,\n",
              "        14.60181106])"
            ]
          },
          "execution_count": 14,
          "metadata": {},
          "output_type": "execute_result"
        }
      ],
      "source": [
        "second_term = np.dot(np.linalg.inv(S), pi) + np.dot(np.dot(np.transpose(P), np.linalg.inv(omega)), Q)\n",
        "second_term"
      ]
    },
    {
      "cell_type": "markdown",
      "metadata": {
        "id": "KaNvL8zC5YBs"
      },
      "source": [
        "# Expected Returns Based on Black Litterman Model\n",
        "\n",
        "\\begin{align}\n",
        "E(r) - r_f = [(τS)^{-1} + P^TΩ^{-1}P]^{-1}[(τS)^{-1}π + P^TΩ^{-1}Q]\n",
        "\\end{align}"
      ]
    },
    {
      "cell_type": "code",
      "execution_count": 15,
      "metadata": {
        "colab": {
          "base_uri": "https://localhost:8080/"
        },
        "id": "VM9ls_yu4XGV",
        "outputId": "c657a917-6f20-49a3-ac0b-b9fdd4d225bb"
      },
      "outputs": [
        {
          "data": {
            "text/plain": [
              "array([0.0087993 , 0.00852061, 0.01492829, 0.01232767, 0.01838706])"
            ]
          },
          "execution_count": 15,
          "metadata": {},
          "output_type": "execute_result"
        }
      ],
      "source": [
        "expected_returns = np.dot(first_term, second_term)\n",
        "expected_returns"
      ]
    },
    {
      "cell_type": "markdown",
      "metadata": {
        "id": "N933VUWk57SH"
      },
      "source": [
        "# Black Litterman vs Historical Average"
      ]
    },
    {
      "cell_type": "code",
      "execution_count": 16,
      "metadata": {
        "colab": {
          "base_uri": "https://localhost:8080/"
        },
        "id": "6l-M64fx56qu",
        "outputId": "1b0f9c06-8487-419d-83ac-74df145bad7b"
      },
      "outputs": [
        {
          "name": "stdout",
          "output_type": "stream",
          "text": [
            "historical average:  [0.27115153 0.1432258  0.32605199 0.5186205  0.07082262]\n",
            "black litterman:  [0.87992958 0.85206109 1.49282894 1.23276655 1.83870641]\n"
          ]
        }
      ],
      "source": [
        "print(\"historical average: \", returns.mean().to_numpy()*100)\n",
        "print(\"black litterman: \", expected_returns*100)"
      ]
    },
    {
      "cell_type": "code",
      "execution_count": 21,
      "metadata": {
        "id": "VGTAmjgZ8YqI"
      },
      "outputs": [
        {
          "data": {
            "image/png": "[encoded data removed]",
            "text/plain": [
              "<Figure size 1000x600 with 1 Axes>"
            ]
          },
          "metadata": {},
          "output_type": "display_data"
        }
      ],
      "source": [
        "historical_avg = returns.mean().to_numpy() * 100  \n",
        "black_litterman = expected_returns * 100  \n",
        "plt.figure(figsize=(10, 6))\n",
        "bar_width = 0.35\n",
        "index = np.arange(len(historical_avg))\n",
        "plt.bar(index, historical_avg, bar_width, label='Historical Average', alpha=0.7)\n",
        "plt.bar(index + bar_width, black_litterman, bar_width, label='Black Litterman', alpha=0.7)\n",
        "plt.xlabel('Assets')\n",
        "plt.ylabel('Expected Returns (%)')\n",
        "plt.title('Black Litterman vs Historical Average Returns')\n",
        "plt.xticks(index + bar_width / 2, [f'Asset {i+1}' for i in range(len(historical_avg))])\n",
        "plt.legend()\n",
        "plt.tight_layout()\n",
        "plt.show()"
      ]
    },
    {
      "cell_type": "code",
      "execution_count": 22,
      "metadata": {},
      "outputs": [
        {
          "data": {
            "image/png": "[encoded data removed]",
            "text/plain": [
              "<Figure size 1000x600 with 1 Axes>"
            ]
          },
          "metadata": {},
          "output_type": "display_data"
        }
      ],
      "source": [
        "plt.figure(figsize=(10, 6))\n",
        "plt.plot(historical_avg, marker='o', label='Historical Average', linestyle='--', color='b')\n",
        "plt.plot(black_litterman, marker='x', label='Black Litterman', linestyle='-', color='r')\n",
        "plt.xlabel('Assets')\n",
        "plt.ylabel('Expected Returns (%)')\n",
        "plt.title('Comparison of Expected Returns: Black Litterman vs Historical Average')\n",
        "plt.xticks(np.arange(len(historical_avg)), [f'Asset {i+1}' for i in range(len(historical_avg))])\n",
        "plt.legend()\n",
        "plt.tight_layout()\n",
        "plt.show()"
      ]
    },
    {
      "cell_type": "code",
      "execution_count": 26,
      "metadata": {},
      "outputs": [],
      "source": [
        "# Function to compute Black-Litterman expected returns based on tau (input parameter)\n",
        "def compute_black_litterman_returns(tau):\n",
        "    # Placeholder for Black-Litterman formula, adjust as per your model\n",
        "    adjusted_returns = expected_returns * tau  # Using tau to scale the returns\n",
        "    return adjusted_returns\n",
        "\n",
        "# Interactive function to update the plot based on tau value\n",
        "def update_plot(tau):\n",
        "    adjusted_returns = compute_black_litterman_returns(tau)\n",
        "    \n",
        "    # Clear previous plots\n",
        "    plt.clf()\n",
        "    \n",
        "    # Create the updated bar plot\n",
        "    plt.figure(figsize=(10, 6))\n",
        "    bar_width = 0.35\n",
        "    index = np.arange(len(historical_avg))\n",
        "\n",
        "    plt.bar(index, historical_avg, bar_width, label='Historical Average', alpha=0.7)\n",
        "    plt.bar(index + bar_width, adjusted_returns, bar_width, label=f'Black Litterman (tau={tau:.2f})', alpha=0.7)\n",
        "\n",
        "    plt.xlabel('Assets')\n",
        "    plt.ylabel('Expected Returns (%)')\n",
        "    plt.title('Interactive Black-Litterman Expected Returns')\n",
        "    plt.xticks(index + bar_width / 2, [f'Asset {i+1}' for i in range(len(historical_avg))])\n",
        "    plt.legend()\n",
        "\n",
        "    plt.tight_layout()\n",
        "    plt.show()\n",
        "\n",
        "# Slider widget to adjust tau\n",
        "tau_slider = widgets.FloatSlider(value=0.05, min=0.01, max=1.0, step=0.01, description='Tau:')\n",
        "widgets.interactive(update_plot, tau=tau_slider)\n",
        "\n",
        "# Display the interactive slider and plot\n",
        "display(tau_slider)\n"
      ]
    },
    {
      "cell_type": "code",
      "execution_count": null,
      "metadata": {},
      "outputs": [],
      "source": []
    }
  ],
  "metadata": {
    "colab": {
      "provenance": []
    },
    "kernelspec": {
      "display_name": "Python 3 (ipykernel)",
      "language": "python",
      "name": "python3"
    },
    "language_info": {
      "codemirror_mode": {
        "name": "ipython",
        "version": 3
      },
      "file_extension": ".py",
      "mimetype": "text/x-python",
      "name": "python",
      "nbconvert_exporter": "python",
      "pygments_lexer": "ipython3",
      "version": "3.12.4"
    },
    "vscode": {
      "interpreter": {
        "hash": "49cb93f377a7abe7414b7b0f21fb3017538004a126cf690fb524202736b7fb92"
      }
    }
  },
  "nbformat": 4,
  "nbformat_minor": 0
}
